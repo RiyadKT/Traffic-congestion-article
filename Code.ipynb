{
 "cells": [
  {
   "cell_type": "markdown",
   "metadata": {},
   "source": [
    "### Code different from the ones in slide: Replaced curved roads by straight roads and included all different simulations"
   ]
  },
  {
   "cell_type": "markdown",
   "metadata": {},
   "source": [
    "### Classes evolve throughout code:Use appropriate version to run"
   ]
  },
  {
   "cell_type": "markdown",
   "metadata": {},
   "source": [
    "Librairies"
   ]
  },
  {
   "cell_type": "code",
   "execution_count": 2,
   "metadata": {},
   "outputs": [
    {
     "name": "stdout",
     "output_type": "stream",
     "text": [
      "pygame 2.5.2 (SDL 2.28.3, Python 3.12.3)\n",
      "Hello from the pygame community. https://www.pygame.org/contribute.html\n"
     ]
    }
   ],
   "source": [
    "import pygame as pg,sys,random\n",
    "from pygame.locals import QUIT\n",
    "import numpy as np\n",
    "import math\n",
    "import numpy.linalg as alg\n",
    "import matplotlib.pyplot as plt\n",
    "import asyncio\n",
    "from IPython.display import display,clear_output\n",
    "%gui asyncio "
   ]
  },
  {
   "cell_type": "markdown",
   "metadata": {},
   "source": [
    "Color values"
   ]
  },
  {
   "cell_type": "code",
   "execution_count": 3,
   "metadata": {},
   "outputs": [],
   "source": [
    "red=(255,0,0)\n",
    "dgrey=(140,140,140)\n",
    "lgray=(195,195,195)\n",
    "black=(0,0,0)\n",
    "white=(255,255,255)\n",
    "green=(0,200,0)\n",
    "yellow=(255,255,0)"
   ]
  },
  {
   "cell_type": "markdown",
   "metadata": {},
   "source": [
    "IDM parameters"
   ]
  },
  {
   "cell_type": "code",
   "execution_count": 4,
   "metadata": {},
   "outputs": [],
   "source": [
    "delta=4\n",
    "vmax=30\n",
    "dmin=100\n",
    "dmin_insert=70"
   ]
  },
  {
   "cell_type": "markdown",
   "metadata": {},
   "source": [
    "Other useful constants"
   ]
  },
  {
   "cell_type": "code",
   "execution_count": 5,
   "metadata": {},
   "outputs": [],
   "source": [
    "c_overlap_back,c_overlap_front,c_insert=80,50,80 #Constants used in overlapping situations.\n",
    "alpha=5\n",
    "d_exit_min=15\n",
    "cexit=10\n",
    "c_insert0=30\n",
    "overlapping_cooldown=9 #Necessary to add realism\n",
    "altrusitc_c=700 #If car at distance < 700 from altrustic on adjacent road-> not overlapping"
   ]
  },
  {
   "cell_type": "markdown",
   "metadata": {},
   "source": [
    "Defining vehicules"
   ]
  },
  {
   "cell_type": "code",
   "execution_count": 6,
   "metadata": {},
   "outputs": [
    {
     "data": {
      "text/plain": [
       "<__main__.vehicle at 0x1173abc80>"
      ]
     },
     "execution_count": 6,
     "metadata": {},
     "output_type": "execute_result"
    }
   ],
   "source": [
    "class vehicle:\n",
    "    def __init__(self,a,v,x,size,T,b,amax):\n",
    "        self.x=x\n",
    "        self.v=v\n",
    "        self.a=a\n",
    "        self.size=size\n",
    "        self.T=T\n",
    "        self.b=b\n",
    "        self.amax=amax\n",
    "\n",
    "    #Interaction cinematic update function using euler's method\n",
    "    def update_v(self,si,dvi):\n",
    "        self.a=self.amax*(1-((self.v/vmax)**delta)-((dmin+self.v*self.T+((self.v*dvi)/(2*np.sqrt(self.amax*self.b))))/si)**2)\n",
    "        \n",
    "        # This test is to avoid having diverging pace and acceleration values\n",
    "        if self.v+self.a*dt<0:\n",
    "            self.x -= 1/2*self.v*self.v/self.a\n",
    "            self.v=0\n",
    "        else:\n",
    "            # Taylor approx (Euler method)\n",
    "            self.v+=self.a*dt\n",
    "            self.x+=self.v*dt +self.a*dt*dt/2\n",
    "            if (self.v<=vmax/10):\n",
    "                self.stop=True\n",
    "            else:\n",
    "                self.stop=False\n",
    "\n",
    "    #Update function on free road\n",
    "    def update_free(self):\n",
    "        self.a=self.amax*(1-(self.v/vmax)**delta)\n",
    "        self.v+=self.a*dt\n",
    "        self.x+=self.v*dt+self.a*dt*dt/2\n",
    "\n",
    "\n",
    "def generate_car():\n",
    "    # Generating random parameters (see PDF)\n",
    "    amax=max(0,np.random.normal(2,0.2)) #mean value bigger than in theory because we're on small road segments\n",
    "    b=max(np.random.normal(1.67,0.2),0)\n",
    "    T=max(np.random.normal(1.6,0.5),0)\n",
    "    return vehicle(0,0,0,20,T,b,amax)\n",
    "\n",
    "generate_car()"
   ]
  },
  {
   "cell_type": "markdown",
   "metadata": {},
   "source": [
    "Defining roads"
   ]
  },
  {
   "cell_type": "code",
   "execution_count": 7,
   "metadata": {},
   "outputs": [],
   "source": [
    "class road:\n",
    "    def __init__(self,vlist,pos):\n",
    "        self.pos=pos\n",
    "        self.vlist=vlist\n",
    "    \n",
    "    def update(self,stopped=[]):\n",
    "        #Updating every car's parameters\n",
    "        n=len(self.vlist)\n",
    "        if n>0:\n",
    "            if self.vlist[0] not in stopped:\n",
    "                self.vlist[0].update_free()\n",
    "            for i in range(1,n):\n",
    "                v1,v2=self.vlist[i-1],self.vlist[i]\n",
    "                if self.vlist[i] not in stopped:\n",
    "                    self.vlist[i].update_v(v1.x-v2.x,abs(v1.v-v2.v))\n",
    "\n",
    "    def draw_vehicles(self):\n",
    "        #Drawing function\n",
    "        pg.draw.rect(SURF,dgrey,[0,self.pos,width+200,40])\n",
    "        for v in self.vlist:\n",
    "            pg.draw.rect(SURF,red,[v.x,self.pos+10,v.size,10])"
   ]
  },
  {
   "cell_type": "markdown",
   "metadata": {},
   "source": [
    "Creating graphics interface using pygame"
   ]
  },
  {
   "cell_type": "code",
   "execution_count": 10,
   "metadata": {},
   "outputs": [],
   "source": [
    "width,height=1600,1000\n",
    "pg.init()\n",
    "SURF=pg.display.set_mode((width,height))"
   ]
  },
  {
   "cell_type": "markdown",
   "metadata": {},
   "source": [
    "## WARNING: don't close pygame window"
   ]
  },
  {
   "cell_type": "markdown",
   "metadata": {},
   "source": [
    "Blank window"
   ]
  },
  {
   "cell_type": "code",
   "execution_count": null,
   "metadata": {},
   "outputs": [],
   "source": [
    "\n",
    "while(True):\n",
    "    SURF.fill(lgray)\n",
    "    pg.display.update()\n",
    "\n"
   ]
  },
  {
   "cell_type": "markdown",
   "metadata": {},
   "source": [
    "## One road testing: interaction and free situations"
   ]
  },
  {
   "cell_type": "markdown",
   "metadata": {},
   "source": [
    "Added road"
   ]
  },
  {
   "cell_type": "code",
   "execution_count": null,
   "metadata": {},
   "outputs": [],
   "source": [
    "r=road([],500)\n",
    "while(True):\n",
    "    SURF.fill(lgray)\n",
    "    r.draw_vehicles()\n",
    "    pg.display.update()\n"
   ]
  },
  {
   "cell_type": "markdown",
   "metadata": {},
   "source": [
    "Interaction Situation"
   ]
  },
  {
   "cell_type": "markdown",
   "metadata": {},
   "source": [
    "Added cars: Press s to run"
   ]
  },
  {
   "cell_type": "code",
   "execution_count": null,
   "metadata": {},
   "outputs": [],
   "source": [
    "v1,v2=generate_car(),vehicle(0,0,1000,20,1,1,1)\n",
    "r=road([v2,v1],500)\n",
    "run=False\n",
    "dt=0.025\n",
    "\n",
    "t=0\n",
    "lim=100\n",
    "postab=[]\n",
    "vtab=[]\n",
    "\n",
    "while(True):\n",
    "    SURF.fill(lgray)\n",
    "    for event in pg.event.get(): \n",
    "        if event.type==pg.KEYDOWN:\n",
    "            if event.key==pg.K_s: #Click s to run simulation\n",
    "                run=True\n",
    "    r.draw_vehicles() # drawing function\n",
    "    if t<lim and run:\n",
    "        postab.append(v1.x) # Position values\n",
    "        vtab.append(v1.v) # Speed values\n",
    "        t+=dt #Updating time\n",
    "    if t>=lim and run:\n",
    "        print('charts complete')\n",
    "        run=False\n",
    "    if run:\n",
    "        r.update([v2]) # Updating variables\n",
    "    pg.display.update()\n",
    "    "
   ]
  },
  {
   "cell_type": "markdown",
   "metadata": {},
   "source": [
    "Plotting position graph"
   ]
  },
  {
   "cell_type": "code",
   "execution_count": 13,
   "metadata": {},
   "outputs": [
    {
     "data": {
      "image/png": "[encoded data removed]",
      "text/plain": [
       "<Figure size 640x480 with 1 Axes>"
      ]
     },
     "metadata": {},
     "output_type": "display_data"
    }
   ],
   "source": [
    "time=np.linspace(0,lim,int(lim/dt))\n",
    "plt.plot(time,postab,color='red')\n",
    "plt.xlabel('time')\n",
    "plt.ylabel('position')\n",
    "plt.title('Position against time')\n",
    "plt.show()"
   ]
  },
  {
   "cell_type": "markdown",
   "metadata": {},
   "source": [
    "Plotting velocity graph"
   ]
  },
  {
   "cell_type": "code",
   "execution_count": 14,
   "metadata": {},
   "outputs": [
    {
     "data": {
      "image/png": "[encoded data removed]",
      "text/plain": [
       "<Figure size 640x480 with 1 Axes>"
      ]
     },
     "metadata": {},
     "output_type": "display_data"
    }
   ],
   "source": [
    "\n",
    "plt.plot(time,vtab,color='red')\n",
    "plt.xlabel('time')\n",
    "plt.ylabel('speed')\n",
    "plt.title('Speed against time')\n",
    "plt.show()"
   ]
  },
  {
   "cell_type": "markdown",
   "metadata": {},
   "source": [
    "Free Road situation "
   ]
  },
  {
   "cell_type": "code",
   "execution_count": null,
   "metadata": {},
   "outputs": [],
   "source": [
    "v1=generate_car()\n",
    "r=road([v1],500)\n",
    "run=False\n",
    "dt=0.025\n",
    "\n",
    "t=0\n",
    "lim=5000\n",
    "postab=[]\n",
    "vtab=[]\n",
    "\n",
    "while(True):\n",
    "    SURF.fill(lgray)\n",
    "    for event in pg.event.get():\n",
    "        if event.type==pg.KEYDOWN:\n",
    "            if event.key==pg.K_s:\n",
    "                run=True\n",
    "    if t<lim and run:\n",
    "        postab.append(v1.x)\n",
    "        vtab.append(v1.v)\n",
    "        t+=1\n",
    "    if t>=lim:\n",
    "        print('charts complete')\n",
    "    r.draw_vehicles()\n",
    "    if run:\n",
    "        r.update()\n",
    "    pg.display.update()\n",
    "    "
   ]
  },
  {
   "cell_type": "markdown",
   "metadata": {},
   "source": [
    "position graph"
   ]
  },
  {
   "cell_type": "code",
   "execution_count": 15,
   "metadata": {},
   "outputs": [],
   "source": [
    "plt.rcParams.update(plt.rcParamsDefault)"
   ]
  },
  {
   "cell_type": "code",
   "execution_count": null,
   "metadata": {},
   "outputs": [],
   "source": [
    "time=np.linspace(0,lim,lim)\n",
    "plt.plot(time,postab,color='red')\n",
    "plt.xlabel('time')\n",
    "plt.ylabel('position')\n",
    "plt.title('Position against time')\n",
    "plt.show()"
   ]
  },
  {
   "cell_type": "markdown",
   "metadata": {},
   "source": [
    "speed graph"
   ]
  },
  {
   "cell_type": "code",
   "execution_count": null,
   "metadata": {},
   "outputs": [],
   "source": [
    "\n",
    "plt.plot(time,vtab,color='red',label='machin')\n",
    "plt.plot(time,[vmax]*len(time),color='black',label='top speed')\n",
    "plt.xlabel('time')\n",
    "plt.ylabel('speed')\n",
    "plt.title('Speed against time')\n",
    "plt.show()"
   ]
  },
  {
   "cell_type": "markdown",
   "metadata": {},
   "source": [
    "## Mesoscopic study"
   ]
  },
  {
   "cell_type": "markdown",
   "metadata": {},
   "source": [
    "### Defining multi road system"
   ]
  },
  {
   "cell_type": "markdown",
   "metadata": {},
   "source": [
    "Car generation parameters"
   ]
  },
  {
   "cell_type": "code",
   "execution_count": 14,
   "metadata": {},
   "outputs": [],
   "source": [
    "mu,sigma=50,20"
   ]
  },
  {
   "cell_type": "markdown",
   "metadata": {},
   "source": [
    "Time variable for generation function"
   ]
  },
  {
   "cell_type": "code",
   "execution_count": 15,
   "metadata": {},
   "outputs": [],
   "source": [
    "simtime=0"
   ]
  },
  {
   "cell_type": "code",
   "execution_count": 44,
   "metadata": {},
   "outputs": [],
   "source": [
    "\n",
    "\n",
    "#Need to introduce car generation cooldown\n",
    "\n",
    "#Testing_cars argument for overlapping tests\n",
    "class road2(road):\n",
    "    def __init__(self, vlist, pos):\n",
    "        self.vlist=vlist\n",
    "        self.pos=pos\n",
    "        self.seed=np.random.normal(mu,sigma,100)\n",
    "    \n",
    "    def gen(self,test=False): #Used test argument for testing purposes\n",
    "      #This function generates cars on self according to seed\n",
    "          #Checking if there's enough space to spawn a car\n",
    "            def free_spawn():\n",
    "                return [v for v in self.vlist if v.x<30]==[]\n",
    "            for x in self.seed:\n",
    "                 if abs(x-simtime)<1 and free_spawn():\n",
    "                      if test or rset.graph[self]!=[]:\n",
    "                        self.vlist.append(generate_car())\n",
    "                        break\n",
    "                      else:\n",
    "                        break\n",
    "\n",
    "    def update(self, stopped=[],test=False): # test argument for testing purposes\n",
    "        self.gen(test) # Generating according to N(mu,sigma) distribution\n",
    "        super().update(stopped)\n",
    "        \n",
    "\n"
   ]
  },
  {
   "cell_type": "markdown",
   "metadata": {},
   "source": [
    "Testing car generation"
   ]
  },
  {
   "cell_type": "code",
   "execution_count": null,
   "metadata": {},
   "outputs": [],
   "source": [
    "r=road2([],500)\n",
    "simtime=0\n",
    "dt=0.1\n",
    "run=False\n",
    "while(True):\n",
    "    pg.time.delay(20)\n",
    "    SURF.fill(lgray)\n",
    "    for event in pg.event.get():\n",
    "        if event.type==pg.KEYDOWN:\n",
    "            if event.key==pg.K_s:\n",
    "                run=True\n",
    "    if run:\n",
    "        simtime+=dt\n",
    "        r.update(test=True)\n",
    "    r.draw_vehicles()\n",
    "    pg.display.update()\n",
    "    \n",
    "\n"
   ]
  },
  {
   "cell_type": "markdown",
   "metadata": {},
   "source": [
    "### Overlapping"
   ]
  },
  {
   "cell_type": "markdown",
   "metadata": {},
   "source": [
    "Functions that will be useful in overlapping situations"
   ]
  },
  {
   "cell_type": "code",
   "execution_count": 28,
   "metadata": {},
   "outputs": [],
   "source": [
    "def find_first_car(y,road,side):\n",
    "    \"Finds the first car on road after x=y if side='forward and first car on road before x=y otherwise\"\n",
    "    n=len(road.vlist)\n",
    "    if side=='back':\n",
    "        for car in road.vlist:\n",
    "            if car.x<y:\n",
    "                return car\n",
    "        return vehicle2(0,0,-100,0,0,0,0,0)\n",
    "    else:\n",
    "        for i in range(n-1,-1,-1):\n",
    "            if road.vlist[i].x>y:\n",
    "                return road.vlist[i]\n",
    "        return vehicle2(0,0,10000,0,0,0,0,0)\n",
    "                    \n",
    "def car_rank(y,road):\n",
    "    m=len(road.vlist)\n",
    "    for i in range(m):\n",
    "        if y>road.vlist[i].x:\n",
    "            return i\n",
    "    return m\n",
    "        "
   ]
  },
  {
   "cell_type": "code",
   "execution_count": 45,
   "metadata": {},
   "outputs": [],
   "source": [
    "#Added car cooldown in generation (useful for overlapping)\n",
    "#also added initial speed, acceleration for realism\n",
    "def generate_car():\n",
    "    amax=np.random.normal(0.73,0.2)\n",
    "    b=np.random.normal(1.67,0.2)\n",
    "    T=np.random.normal(1.6,0.5)\n",
    "    return vehicle2(amax/2,20,0,20,T,b,amax,0)\n",
    "\n",
    "# Added cooldown\n",
    "class vehicle2(vehicle):\n",
    "    def __init__(self,a,v,x,size,T,b,amax,cooldown):\n",
    "        self.x=x\n",
    "        self.v=v\n",
    "        self.a=a\n",
    "        self.size=size\n",
    "        self.T=T\n",
    "        self.b=b\n",
    "        self.amax=amax\n",
    "        self.cooldown=cooldown\n",
    "\n",
    "    def update_v(self, si, dvi):\n",
    "        if self.T!=-1:  #For testing purposes\n",
    "            self.cooldown+=dt\n",
    "            super().update_v(si, dvi)\n",
    "    \n",
    "    def update_free(self):\n",
    "        if self.T!=-1:\n",
    "            self.cooldown+=dt\n",
    "            super().update_free()\n",
    "\n",
    "\n",
    "class road_set:\n",
    "    def __init__(self,rlist,graph):\n",
    "        self.rlist=rlist\n",
    "        self.graph=graph\n",
    "\n",
    "    #Deleting vehicules out of screen\n",
    "    def clean(self):\n",
    "        for road in self.rlist:\n",
    "            if road.vlist != []:\n",
    "                if road.vlist[0].x>width: \n",
    "                    road.vlist.remove(road.vlist[0])\n",
    "\n",
    "\n",
    "\n",
    "\n",
    "    #r1 to r2\n",
    "    def overlap(self,r1,r2):\n",
    "        n=len(r2.vlist)\n",
    "        #Checking for all vehicles v of r1 if v can overlap on r2\n",
    "        for i in range(len(r1.vlist)):\n",
    "            if i in range(1,len(r1.vlist)):\n",
    "                v1=r1.vlist[i]\n",
    "                if v1.cooldown>overlapping_cooldown: #testing if i in range because we modify r1.vlist during iteration\n",
    "                    v2=r1.vlist[i-1]\n",
    "                    v3=find_first_car(v1.x,r2,'back')\n",
    "                    v4=find_first_car(v1.x,r2,'front')\n",
    "                    #See conditions on slide 10\n",
    "                    if v1.x-v3.x>c_overlap_back and v4.x-v1.x>c_overlap_front and v2.x-v1.x<=dmin+10:\n",
    "                        v1.cooldown=0\n",
    "                        r2.vlist.insert(car_rank(v1.x,r2),v1)\n",
    "                        r1.vlist.remove(v1)\n",
    "        \n",
    "    def update(self):\n",
    "        for road in self.rlist:\n",
    "            road.update()\n",
    "        \n",
    "        for k,v in self.graph.items(): #Graph structure to detail what roads are accessible from a certain road\n",
    "            for road in v:\n",
    "                self.overlap(k,road)\n",
    "\n",
    "    def draw(self):\n",
    "        for road in self.rlist:\n",
    "            road.draw_vehicles()\n",
    "    \n",
    "\n",
    "        "
   ]
  },
  {
   "cell_type": "code",
   "execution_count": null,
   "metadata": {},
   "outputs": [],
   "source": [
    "r1,r2,r3=road2([],500),road2([vehicle2(0,0,1000,20,-1,0,0,0)],600),road2([],700)\n",
    "#Added a vehicle on r2 to force vehicles to overlap to avoid the vehicle\n",
    "#This graph describes the different road switches available to cars\n",
    "graph={r1:[r2],r2:[r1,r2],r3:[r2]}\n",
    "rset=road_set([r1,r2,r3],graph)\n",
    "run=False\n",
    "simtime=0\n",
    "dt=0.1\n",
    "while(True):\n",
    "    pg.time.delay(10)\n",
    "    SURF.fill(lgray)\n",
    "    for event in pg.event.get():\n",
    "        if event.type==pg.KEYDOWN:\n",
    "            if event.key==pg.K_s:\n",
    "                run=True\n",
    "    if run:\n",
    "        simtime+=dt\n",
    "        rset.update()\n",
    "    rset.draw()\n",
    "    rset.clean()\n",
    "    x,z=pg.mouse.get_pos()\n",
    "    pg.display.update()\n"
   ]
  },
  {
   "cell_type": "markdown",
   "metadata": {},
   "source": [
    "Insertion roads"
   ]
  },
  {
   "cell_type": "markdown",
   "metadata": {},
   "source": [
    "Defining rotated roads"
   ]
  },
  {
   "cell_type": "code",
   "execution_count": 33,
   "metadata": {},
   "outputs": [],
   "source": [
    "def draw_rotated_rect(surface,rect,angle_radians,color):\n",
    "    top_left=rotate_point(rect.topleft,rect.topleft,angle_radians)\n",
    "    top_right=rotate_point(rect.topright,rect.topleft,angle_radians)\n",
    "    bottom_right=rotate_point(rect.bottomright,rect.topleft,angle_radians)\n",
    "    bottom_left=rotate_point(rect.bottomleft,rect.topleft,angle_radians)\n",
    "    vertices=(top_left,top_right,bottom_right,bottom_left)\n",
    "    pg.draw.polygon(surface,color,vertices)\n",
    "\n",
    "def rotate_point(point,origin,angle_radians):\n",
    "    x,y=point[0]-origin[0],point[1]-origin[1]\n",
    "    x_rotated=x*math.cos(angle_radians)-y*math.sin(angle_radians)\n",
    "    y_rotated=x*math.sin(angle_radians)+y*math.cos(angle_radians)\n",
    "    x_rotated+=origin[0]\n",
    "    y_rotated+=origin[1]\n",
    "    return round(x_rotated), round(y_rotated)"
   ]
  },
  {
   "cell_type": "code",
   "execution_count": null,
   "metadata": {},
   "outputs": [],
   "source": [
    "testr=pg.Rect(50,50,50,20)\n",
    "while(True):\n",
    "    SURF.fill(lgray)\n",
    "    draw_rotated_rect(SURF,testr,np.pi/4,red)\n",
    "    pg.display.update()"
   ]
  },
  {
   "cell_type": "code",
   "execution_count": 58,
   "metadata": {},
   "outputs": [],
   "source": [
    "font=pg.font.SysFont(None,15)\n",
    "class road3(road2):\n",
    "    def __init__(self, vlist, pos,angle,length):\n",
    "        self.angle=angle\n",
    "        self.length=length\n",
    "        super().__init__(vlist, pos)\n",
    "\n",
    "    def draw_vehicles(self):\n",
    "        r=pg.Rect(0,self.pos,self.length,30)\n",
    "        draw_rotated_rect(SURF,r,self.angle,dgrey)\n",
    "        for v in self.vlist :\n",
    "            rectv=pg.Rect(v.x*math.cos(self.angle),self.pos+10+v.x*math.sin(self.angle),v.size,10) # Changing rect to take into account inclined roads\n",
    "            draw_rotated_rect(SURF,rectv,self.angle,red)\n",
    "    \n",
    "    \n",
    "class road_set2(road_set):\n",
    "    def overlap(self, r1, r2,a=-math.inf,b=math.inf):\n",
    "        n=len(r2.vlist)\n",
    "        #def find_first_car(y,road,side):\n",
    "        #        if side=='back':\n",
    "        #            for car in road.vlist:\n",
    "        #                if car.x<y:\n",
    "        #                    return car\n",
    "        #            return vehicle2(0,0,-100,0,0,0,0,0)\n",
    "        #        else:\n",
    "        #            for i in range(n-1,-1,-1):\n",
    "        #                if r2.vlist[i].x>y:\n",
    "        #                    return r2.vlist[i]\n",
    "        #            return vehicle2(0,0,10000,0,0,0,0,0)\n",
    "        #def car_rank(y,road):\n",
    "        #    m=len(road.vlist)\n",
    "        #    for i in range(m):\n",
    "        #        if y>road.vlist[i].x:\n",
    "        #            return i\n",
    "        #    return m\n",
    "        for i in range(len(r1.vlist)):\n",
    "            if i in range(1,len(r1.vlist)):\n",
    "                v1=r1.vlist[i]\n",
    "                if v1.cooldown>overlapping_cooldown:\n",
    "                    if i==1 or (r1 not in insertion_roads):\n",
    "                        v2=r1.vlist[i-1]\n",
    "                        v3=find_first_car(v1.x*np.cos(r1.angle),r2,'back')\n",
    "                        v4=find_first_car(v1.x*np.cos(r1.angle) ,r2,'front')\n",
    "                        if v1.x*np.cos(r1.angle)-v3.x>c_overlap_back and v4.x-v1.x*np.cos(r1.angle)>c_overlap_front and v2.x-v1.x<=dmin+10:\n",
    "                            v1.cooldown=0\n",
    "                            v1.x=v1.x*np.cos(r1.angle)\n",
    "                            r2.vlist.insert(car_rank(v1.x,r2),v1)\n",
    "                            r1.vlist.remove(v1)\n",
    "\n",
    "    \n",
    "    \n",
    "    def update(self):\n",
    "        for road in self.rlist:\n",
    "            road.update()\n",
    "        for k,v in self.graph.items():\n",
    "            for road in v:  \n",
    "                self.overlap(k,road)\n",
    "        \n",
    "\n"
   ]
  },
  {
   "cell_type": "code",
   "execution_count": 36,
   "metadata": {},
   "outputs": [],
   "source": [
    "insertion_roads=[r1]"
   ]
  },
  {
   "cell_type": "code",
   "execution_count": null,
   "metadata": {},
   "outputs": [],
   "source": [
    "r1,r2=road3([vehicle2(0,0,730,0,-1,0,0,0)],0,np.pi/4,700),road3([],500,0,width+200)\n",
    "graph={r1:[r2],r2:[r2]}\n",
    "rset=road_set2([r1,r2],graph)\n",
    "run=False\n",
    "simtime=0\n",
    "dt=0.1\n",
    "while(True):\n",
    "    pg.time.delay(10)\n",
    "    SURF.fill(lgray)\n",
    "    for event in pg.event.get():\n",
    "        if event.type==pg.KEYDOWN:\n",
    "            if event.key==pg.K_s:\n",
    "                run=True\n",
    "    if run:\n",
    "        simtime+=dt\n",
    "        rset.update()\n",
    "    rset.draw()\n",
    "    rset.clean()\n",
    "    pg.display.update()\n",
    "    "
   ]
  },
  {
   "cell_type": "markdown",
   "metadata": {},
   "source": [
    "# User behavior study"
   ]
  },
  {
   "cell_type": "markdown",
   "metadata": {},
   "source": [
    "### Initial situation with 'greedy' behavior"
   ]
  },
  {
   "cell_type": "markdown",
   "metadata": {},
   "source": [
    "function used to find in which lane is the car (used in vehicle class)"
   ]
  },
  {
   "cell_type": "code",
   "execution_count": 49,
   "metadata": {},
   "outputs": [],
   "source": [
    "def find_road(car):\n",
    "    for r in rset.rlist:\n",
    "        if car in r.vlist:\n",
    "            return r"
   ]
  },
  {
   "cell_type": "code",
   "execution_count": 50,
   "metadata": {},
   "outputs": [
    {
     "data": {
      "text/plain": [
       "[<__main__.road3 at 0x11742c380>]"
      ]
     },
     "execution_count": 50,
     "metadata": {},
     "output_type": "execute_result"
    }
   ],
   "source": [
    "#Finding graph values\n",
    "vl=[]\n",
    "for l in graph.values():\n",
    "    for r in l:\n",
    "        vl.append(r)\n",
    "vl=set(vl)\n",
    "\n",
    "insertion_roads=[r for r in rset.rlist if (r in graph.keys()) and r not in vl]\n",
    "insertion_roads"
   ]
  },
  {
   "cell_type": "code",
   "execution_count": 68,
   "metadata": {},
   "outputs": [],
   "source": [
    "\n",
    "\n",
    "class vehicle3(vehicle2):\n",
    "#Adding behavior related parameters\n",
    "    def __init__(self, a, v, x, size, T, b, amax, cooldown,path,behavior):\n",
    "        self.path=path #Road that the car wants to end up on\n",
    "        self.behavior=behavior \n",
    "        super().__init__(a, v, x, size, T, b, amax, cooldown)\n",
    "\n",
    "#slide 16/23\n",
    "    def update_free(self):\n",
    "        #Modifying free road update function to take into account the fact that the vehicle wants to end up at its destination\n",
    "        #If altruistic\n",
    "        if self.behavior!=red:\n",
    "            #This parameter is to ensure that we don't do 2 update steps simultaneaously\n",
    "            b=0\n",
    "            rself=find_road(self)\n",
    "            if rself not in insertion_roads:\n",
    "                for r in graph[rself]:\n",
    "                    #Slowing down to try to insert behind car on desired road\n",
    "                    if r!=rself:\n",
    "                        car=find_first_car(self.x,r,'front')\n",
    "                        if car.x-self.x<30 and abs(car.v)<0.01 and b==0:\n",
    "                            super().update_v(car.x-self.x,self.v)\n",
    "                            b=1\n",
    "        if self.behavior==red or b==0: \n",
    "            if self in self.path.vlist or self.x>width-100: #Checking if we're not on an insertion road or that the car is already to far forward\n",
    "                super().update_free()\n",
    "            else:\n",
    "                #Slowing down at the end of the road\n",
    "                super().update_v(width-self.x,self.v)\n",
    "\n",
    "#slide 16/23\n",
    "    def update_v(self, si, dvi):\n",
    "        if self.behavior==red:\n",
    "            super().update_v(si, dvi)\n",
    "        else:\n",
    "            b=0\n",
    "            rself=find_road(self)\n",
    "            if rself not in insertion_roads:\n",
    "                for r in graph[rself]:\n",
    "                    if r!=rself:\n",
    "                        car=find_first_car(self.x,r,'front')\n",
    "                        # if car on adjacent road is closer than car in front and car on adjacent road is stopped\n",
    "                        if car.x-self.x<si and abs(dvi-self.v)<0.01 and b==0:\n",
    "                            super().update_v(car.x-self.x,self.v)\n",
    "                            b=1\n",
    "            if b==0:\n",
    "                super().update_v(si,dvi)\n",
    "    \n",
    "\n",
    "    \n",
    "\n",
    "\n",
    "class road4(road3):\n",
    "\n",
    "    def draw_vehicles(self):\n",
    "        r=pg.Rect(0,self.pos,self.length,30)\n",
    "        draw_rotated_rect(SURF,r,self.angle,dgrey)\n",
    "        for v in self.vlist :\n",
    "            b=0\n",
    "            if self.angle!=0:\n",
    "                b=1\n",
    "            rectv=pg.Rect(v.x*math.cos(self.angle),self.pos+10+v.x*math.sin(self.angle),v.size,10)\n",
    "            draw_rotated_rect(SURF,rectv,self.angle,v.behavior)\n",
    "            img=font.render(str(rset.rlist.index(v.path)),True,black)\n",
    "            SURF.blit(img,(v.x*np.cos(self.angle),self.pos+v.x*np.sin(self.angle))) #Adding car paths for visibility\n",
    "            \n",
    "\n",
    "\n",
    "class road_set2(road_set2):\n",
    "    def overlap(self, r1, r2,a=-math.inf,b=math.inf):\n",
    "        n=len(r2.vlist)\n",
    "        for i in range(len(r1.vlist)):\n",
    "    #Make sure that i is in acceptable range (r1.vlist changes during iterations so necessary )\n",
    "            if i in range(0,len(r1.vlist)): \n",
    "    #Added this condition to make sure that second property of slide 16 respected\n",
    "                v1=r1.vlist[i]\n",
    "                if not(v1.behavior==green and abs(find_first_car(v1.x,r2,'back').x-v1.x)<250):\n",
    "                    if i in range(0,len(r1.vlist)) and v1.cooldown>overlapping_cooldown and abs(r1.pos-v1.path.pos)-abs(r2.pos-v1.path.pos)>0:\n",
    "                        if i==1 or (r1 not in insertion_roads):\n",
    "                            v1,v2=r1.vlist[i],r1.vlist[i-1]\n",
    "                            v3=find_first_car(v1.x*np.cos(r1.angle),r2,'back')\n",
    "                            v4=find_first_car(v1.x*np.cos(r1.angle) ,r2,'front')\n",
    "                            if v1.x*np.cos(r1.angle)-v3.x>c_overlap_back and v4.x-v1.x*np.cos(r1.angle)>c_overlap_front and v2.x-v1.x<=dmin+10:\n",
    "                                v1.cooldown=0\n",
    "                                v1.x=v1.x*np.cos(r1.angle)\n",
    "                                r2.vlist.insert(car_rank(v1.x,r2),v1)\n",
    "                                r1.vlist.remove(v1)\n",
    "\n",
    "def generate_car(road=None):\n",
    "    amax=np.random.normal(0.73,0.2)\n",
    "    b=np.random.normal(1.67,0.2)\n",
    "    T=np.random.normal(1.6,0.5)\n",
    "    rset.con+=1\n",
    "#to consider isolated roads\n",
    "    if list(graph.values())!=[[]]:\n",
    "        return vehicle3(amax/2,20,0,20,T,b,amax,0,random.choice(random.choice(list(graph.values()))),gen_seed())\n",
    "    else:\n",
    "        return vehicle3(amax/2,20,0,20,T,b,amax,0,road,gen_seed())\n",
    "        \n",
    "\n",
    "\n"
   ]
  },
  {
   "cell_type": "markdown",
   "metadata": {},
   "source": [
    "car behavior distribution function"
   ]
  },
  {
   "cell_type": "code",
   "execution_count": 52,
   "metadata": {},
   "outputs": [],
   "source": [
    "def gen_seed():\n",
    "    return red"
   ]
  },
  {
   "cell_type": "markdown",
   "metadata": {},
   "source": [
    "Adding precision and congestion parameters to rset"
   ]
  },
  {
   "cell_type": "code",
   "execution_count": 56,
   "metadata": {},
   "outputs": [],
   "source": [
    "class road_set3(road_set2):\n",
    "    def __init__(self, rlist, graph):\n",
    "        self.good=0\n",
    "        self.bad=0\n",
    "        self.con=0\n",
    "        super().__init__(rlist, graph)\n",
    "    \n",
    "#When deleting vehicle (end of road), checking if vehicle in good lane\n",
    "    def clean(self):\n",
    "        for road in self.rlist:\n",
    "            if road.vlist != []:\n",
    "                car=road.vlist[0]\n",
    "                if car.x>width:\n",
    "                    if car in car.path.vlist:\n",
    "                        self.good+=1\n",
    "                    else:\n",
    "                        self.bad+=1\n",
    "                    road.vlist.remove(road.vlist[0])\n",
    "                    self.con-=1\n",
    "\n"
   ]
  },
  {
   "cell_type": "code",
   "execution_count": null,
   "metadata": {},
   "outputs": [],
   "source": [
    "r2=road4([],500,0,width+200)\n",
    "r1=road4([vehicle3(0,0,730,0,-1,0,0,0,r2,green)],0,np.pi/4,700)\n",
    "r3,r4=road4([],600,0,width+200),road4([],700,0,width+200)\n",
    "graph={r1:[r2],r2:[r3],r3:[r2,r4],r4:[r3]}\n",
    "rset=road_set3([r1,r2,r3,r4],graph)\n",
    "run=False\n",
    "simtime=0\n",
    "dt=0.1\n",
    "precision_values=[]\n",
    "loss_values=[]\n",
    "congestion_values=[]\n",
    "time_values=[]\n",
    "while(True):\n",
    "    time_values.append(simtime) \n",
    "    precision_values.append(rset.good) \n",
    "    loss_values.append(rset.bad)\n",
    "    congestion_values.append(rset.con)\n",
    "    pg.time.delay(10)\n",
    "    SURF.fill(lgray)\n",
    "    for event in pg.event.get():\n",
    "        if event.type==pg.KEYDOWN:\n",
    "            if event.key==pg.K_s:\n",
    "                run=True\n",
    "    if run:\n",
    "        simtime+=dt\n",
    "        \n",
    "        rset.update()\n",
    "    rset.draw()\n",
    "    rset.clean()\n",
    "    pg.display.update()"
   ]
  },
  {
   "cell_type": "markdown",
   "metadata": {},
   "source": [
    "plotting precision and congestion values"
   ]
  },
  {
   "cell_type": "code",
   "execution_count": null,
   "metadata": {},
   "outputs": [],
   "source": [
    "plt.plot(time_values,precision_values,'-b',label='precision')\n",
    "plt.plot(time_values,congestion_values,'-r',label='congestion')\n",
    "plt.plot(time_values,loss_values,label='loss')\n",
    "plt.axvline(mu,label='$\\mu$')\n",
    "plt.title('Congestion,precision and loss over time in greedy paradigm')\n",
    "plt.xlabel('time')\n",
    "plt.ylabel('number of cars')\n",
    "plt.legend()"
   ]
  },
  {
   "cell_type": "markdown",
   "metadata": {},
   "source": [
    "Perfect precision but congestion for 200 seconds+"
   ]
  },
  {
   "cell_type": "markdown",
   "metadata": {},
   "source": [
    "### Now same experiment but with altruistic behavior"
   ]
  },
  {
   "cell_type": "code",
   "execution_count": 61,
   "metadata": {},
   "outputs": [],
   "source": [
    "def gen_seed():\n",
    "    return green"
   ]
  },
  {
   "cell_type": "code",
   "execution_count": null,
   "metadata": {},
   "outputs": [],
   "source": [
    "r2=road4([],500,0,width+200)\n",
    "r1=road4([vehicle3(0,0,730,0,-1,0,0,0,r2,green)],0,np.pi/4,700)\n",
    "r3,r4=road4([],600,0,width+200),road4([],700,0,width+200)\n",
    "graph={r1:[r2],r2:[r3],r3:[r2,r4],r4:[r3]}\n",
    "rset=road_set3([r1,r2,r3,r4],graph)\n",
    "\n",
    "rset.bad,rset.good,rset.con=0,0,0\n",
    "run=False\n",
    "simtime=0\n",
    "dt=0.1\n",
    "precision_values=[]\n",
    "loss_values=[]\n",
    "congestion_values=[]\n",
    "time_values=[]\n",
    "while(True):\n",
    "    time_values.append(simtime)\n",
    "    precision_values.append(rset.good)\n",
    "    loss_values.append(rset.bad)\n",
    "    congestion_values.append(rset.con)\n",
    "    pg.time.delay(10)\n",
    "    SURF.fill(lgray)\n",
    "    for event in pg.event.get():\n",
    "        if event.type==pg.KEYDOWN:\n",
    "            if event.key==pg.K_s:\n",
    "                run=True\n",
    "    if run:\n",
    "        simtime+=dt\n",
    "        \n",
    "        rset.update()\n",
    "    rset.draw()\n",
    "    rset.clean()\n",
    "    pg.display.update()"
   ]
  },
  {
   "cell_type": "code",
   "execution_count": null,
   "metadata": {},
   "outputs": [
    {
     "data": {
      "text/plain": [
       "<matplotlib.legend.Legend at 0x31067fe00>"
      ]
     },
     "execution_count": 262,
     "metadata": {},
     "output_type": "execute_result"
    },
    {
     "data": {
      "image/png": "[encoded data removed]",
      "text/plain": [
       "<Figure size 640x480 with 1 Axes>"
      ]
     },
     "metadata": {},
     "output_type": "display_data"
    }
   ],
   "source": [
    "plt.plot(time_values,precision_values,'-b',label='precision')\n",
    "plt.plot(time_values,congestion_values,'-r',label='congestion')\n",
    "plt.plot(time_values,loss_values,label='loss')\n",
    "plt.axvline(mu,label='mu')\n",
    "plt.title('Congestion,precision and loss over time in greedy paradigm')\n",
    "plt.xlabel('time')\n",
    "plt.ylabel('number of cars')\n",
    "plt.legend()"
   ]
  },
  {
   "cell_type": "markdown",
   "metadata": {},
   "source": [
    "Congestion curve decreases much faster than in case where all cars are egoistic"
   ]
  },
  {
   "cell_type": "markdown",
   "metadata": {},
   "source": [
    "The reason why we see good precision contrary to what the slides indicate is due to a code modification done in this version: Cars slow down nearing the end of the road and are thus able to get to their destination"
   ]
  },
  {
   "cell_type": "markdown",
   "metadata": {},
   "source": [
    "Because of this modification, it is no longer necessary to introduce variable behavior, as its ouput will necessarily be worse than an all altruistic case"
   ]
  },
  {
   "cell_type": "markdown",
   "metadata": {},
   "source": [
    "# Smart lights"
   ]
  },
  {
   "cell_type": "markdown",
   "metadata": {},
   "source": [
    "To emulate how lights work with our model, we'll consider that a light acts as a motionless car relatively to the cars on a certain road."
   ]
  },
  {
   "cell_type": "markdown",
   "metadata": {},
   "source": [
    "When the light turns to green, this car is 'removed'"
   ]
  },
  {
   "cell_type": "code",
   "execution_count": 69,
   "metadata": {},
   "outputs": [],
   "source": [
    "green_time=50\n",
    "yellow_time=10\n",
    "red_time=50\n"
   ]
  },
  {
   "cell_type": "markdown",
   "metadata": {},
   "source": [
    "road position becomes a vector and not simply its y coordinate because roads will be starting from all directions."
   ]
  },
  {
   "cell_type": "code",
   "execution_count": 104,
   "metadata": {},
   "outputs": [],
   "source": [
    "\n",
    "class road5(road4):\n",
    "    def __init__(self, vlist, pos, angle, length):\n",
    "        self.light,self.time=None,0\n",
    "        self.opposite=None\n",
    "        super().__init__(vlist, pos, angle, length)\n",
    "\n",
    "    def update(self, stopped=[]):\n",
    "        #Updating clock only if running the light algorithm ie when the opposite light is red \n",
    "        if self.opposite==None or self.opposite.light==red:\n",
    "            self.time+=dt\n",
    "        else:\n",
    "            self.time=0\n",
    "        if self.light !=None:\n",
    "            self.update_light()\n",
    "        super().update(stopped)\n",
    "\n",
    "    #First algorithm implementation\n",
    "    def update_light(self):\n",
    "        if self.opposite==None or self.opposite.light==red:\n",
    "            if self.time<green_time:\n",
    "                self.light=green\n",
    "            elif self.time<green_time+yellow_time:\n",
    "                self.light=yellow\n",
    "            elif self.time<green_time+yellow_time+red_time:\n",
    "                self.light=red\n",
    "            else:\n",
    "                self.time=0\n",
    "        else:\n",
    "            self.light=red\n",
    "\n",
    "    def draw_vehicles(self):\n",
    "        x,y=self.pos\n",
    "        r=pg.Rect(x,y,self.length,30)\n",
    "        draw_rotated_rect(SURF,r,self.angle,dgrey)\n",
    "        #Drawing light\n",
    "        if self.light !=None:\n",
    "            light=pg.Rect(x+(20+self.length)*np.cos(self.angle),y+(20+self.length)*(np.sin(self.angle)),10,30)\n",
    "            draw_rotated_rect(SURF,light,self.angle,self.light)\n",
    "        #Drawing vehicles       \n",
    "        for v in self.vlist :\n",
    "            rectv=pg.Rect((v.x)*math.cos(self.angle)+x - 10*np.sin(self.angle),y+((v.x))*math.sin(self.angle)+10*np.cos(self.angle),v.size,10)\n",
    "            draw_rotated_rect(SURF,rectv,self.angle,v.behavior)\n",
    "            img=font.render(str(rset.rlist.index(v.path)),True,black)\n",
    "            SURF.blit(img,(v.x*np.cos(self.angle)+x,y+v.x*np.sin(self.angle)))\n",
    "        \n",
    "class road_set4(road_set3):\n",
    "    def overlap(self, r1, r2,a=-math.inf,b=math.inf):\n",
    "        if r1!=r2:\n",
    "            n=len(r2.vlist)\n",
    "            for i in range(len(r1.vlist)):\n",
    "        #Make sure that i is in acceptable range (r1.vlist changes during iterations so necessary )\n",
    "                if i in range(0,len(r1.vlist)): \n",
    "        #Added this condition to make sure that second property of slide 16 respected\n",
    "                    v1=r1.vlist[i]\n",
    "                    if not(v1.behavior==green and abs(find_first_car(v1.x,r2,'back').x-v1.x)<250):\n",
    "                        #####Modified this line\n",
    "                        if i in range(0,len(r1.vlist)) and v1.cooldown>overlapping_cooldown and abs(r1.pos[0]-v1.path.pos[0])-abs(r2.pos[0]-v1.path.pos[0])>0:\n",
    "                            if i==1 or (r1 not in insertion_roads):\n",
    "                                v1,v2=r1.vlist[i],r1.vlist[i-1]\n",
    "                                v3=find_first_car(v1.x*np.cos(r1.angle),r2,'back')\n",
    "                                v4=find_first_car(v1.x*np.cos(r1.angle) ,r2,'front')\n",
    "                                if v1.x*np.cos(r1.angle)-v3.x>c_overlap_back and v4.x-v1.x*np.cos(r1.angle)>c_overlap_front and v2.x-v1.x<=dmin+10:\n",
    "                                    v1.cooldown=0\n",
    "                                    v1.x=v1.x*np.cos(r1.angle)\n",
    "                                    r2.vlist.insert(car_rank(v1.x,r2),v1)\n",
    "                                    r1.vlist.remove(v1)\n",
    "                                    \n",
    "                                    \n",
    "    \n",
    "    \n",
    "    \n",
    "class vehicle4(vehicle3):\n",
    "    #Adapting car parameters update to stop at red lights\n",
    "    def update_v(self, si, dvi):\n",
    "        r=find_road(self) \n",
    "        #Considering case where car needs to stop for  red light\n",
    "        if si<r.length-self.x or self.x>r.length or find_road(self).light != red:\n",
    "            super().update_v(si, dvi)\n",
    "        else :\n",
    "            super().update_v(r.length-self.x,self.v)\n",
    "            \n",
    "    def update_free(self):\n",
    "        #Considering case where car needs to stop for  red light\n",
    "        if self.x>find_road(self).length or find_road(self).light !=red:\n",
    "            super().update_free()\n",
    "        else:\n",
    "            super().update_v(find_road(self).length-self.x,self.v)\n",
    "        \n",
    "\n",
    "def generate_car(road=None):\n",
    "    amax=max(0,np.random.normal(0.73,0.2))\n",
    "    b=max(0,np.random.normal(1.67,0.2))\n",
    "    T=max(0,np.random.normal(1.6,0.5))\n",
    "    rset.con+=1\n",
    "#to consider isolated roads\n",
    "    if list(graph.values())!=[[]]:\n",
    "        return vehicle4(amax/2,20,0,20,T,b,amax,0,random.choice(random.choice(list(graph.values()))),gen_seed())\n",
    "    else:\n",
    "        return vehicle4(amax/2,20,0,20,T,b,amax,0,road,gen_seed())\n",
    "        \n",
    "    \n",
    "        "
   ]
  },
  {
   "cell_type": "markdown",
   "metadata": {},
   "source": [
    "Test to see how lights work"
   ]
  },
  {
   "cell_type": "code",
   "execution_count": null,
   "metadata": {},
   "outputs": [],
   "source": [
    "r1=road5([],(0,500),0,500)\n",
    "r1.light=green\n",
    "graph={r1:[r1]}\n",
    "run=False\n",
    "rset=road_set4([r1],graph)\n",
    "simtime=0\n",
    "dt=0.1\n",
    "while(True):\n",
    "    pg.time.delay(8)\n",
    "    SURF.fill(lgray)\n",
    "    x,y=pg.mouse.get_pos()\n",
    "    img=font.render(str((x,y)),True,black) \n",
    "    SURF.blit(img,(x,y+20)) #To print mouse coordinates\n",
    "    for event in pg.event.get():\n",
    "        if event.type==pg.KEYDOWN:\n",
    "            if event.key==pg.K_s:\n",
    "                run=True\n",
    "    if run:\n",
    "        simtime+=dt\n",
    "        \n",
    "        rset.update()\n",
    "    rset.draw()\n",
    "    rset.clean()\n",
    "    pg.display.update()\n"
   ]
  },
  {
   "cell_type": "markdown",
   "metadata": {},
   "source": [
    "Creating intersection where lights follow first algorithm"
   ]
  },
  {
   "cell_type": "code",
   "execution_count": 109,
   "metadata": {},
   "outputs": [],
   "source": [
    "\n",
    "class road_set5(road_set4):\n",
    "    def rswitch(self,r1,r2):\n",
    "    #Function to deal with how cars get to their lane of choice after running through light\n",
    "        if r1.vlist!=[]:\n",
    "            car=r1.vlist[0]\n",
    "            #Checking if there's enough room\n",
    "            if car.x-r1.length>-40 and find_first_car(0,r2,'front').x>30 and r2==car.path:\n",
    "                car.x=0\n",
    "                car.v/=2\n",
    "                r2.vlist.append(car)\n",
    "                r1.vlist.remove(car)\n",
    "    \n",
    "    def update(self):\n",
    "        #Adding light related switches in global update functioj\n",
    "        for road in self.rlist:\n",
    "            road.update()\n",
    "        for r,l in lightgraph.items():\n",
    "            for r2 in l:\n",
    "                if r.light in [green,yellow]:\n",
    "                    self.rswitch(r,r2)\n",
    "        for k,v in self.graph.items():\n",
    "                for road in v:  \n",
    "                    if k in lightgraph.keys() and road not in lightgraph[k] and k!=road:\n",
    "                        self.overlap(k,road)\n",
    "                    \n",
    "\n",
    "                    \n",
    "\n",
    "class road6(road5):\n",
    "    \n",
    "    \n",
    "    def update(self, stopped=[]):\n",
    "        #Running algorithm clock \n",
    "        if  self.opposite==None or self.opposite.light==red :\n",
    "            self.time+=dt\n",
    "        # If light is red then we reset algorithm clock\n",
    "        else:\n",
    "            self.time=0\n",
    "        if self.light !=None:\n",
    "            self.update_light()\n",
    "        #Only generating on roads where there's a light\n",
    "        if self in lightgraph.keys():\n",
    "            self.gen()\n",
    "        if self.vlist!=[]:\n",
    "            car=self.vlist[0]\n",
    "            if self.light==None:\n",
    "                self.vlist[0].update_free()\n",
    "            else:\n",
    "                car.update_v(abs(car.x-self.length)+100,car.v)\n",
    "            n=len(self.vlist)\n",
    "            if n>0:\n",
    "                for i in range(1,n):\n",
    "                    v1,v2=self.vlist[i-1],self.vlist[i]\n",
    "                    if self.vlist[i] not in stopped:\n",
    "                        self.vlist[i].update_v(v1.x-v2.x,abs(v1.v-v2.v))\n",
    "\n",
    "    def gen(self):\n",
    "            def free_spawn():\n",
    "                return [v for v in self.vlist if v.x<30]==[]\n",
    "            for x in self.seed:\n",
    "                 if abs(x-simtime)<1 and free_spawn():\n",
    "                      if rset.graph[self]!=[]:\n",
    "                        self.vlist.append(generate_car(self))\n",
    "                        break\n",
    "                      else:\n",
    "                        break\n",
    "\n",
    "\n",
    "\n",
    "def generate_car(road):\n",
    "    amax=max(0,np.random.normal(0.73,0.2))\n",
    "    b=max(0,np.random.normal(1.67,0.2))\n",
    "    T=max(0,np.random.normal(1.6,0.5))\n",
    "    rset.con+=1\n",
    "#to consider isolated roads\n",
    "    if list(graph.values())!=[[]]:\n",
    "        return vehicle4(amax/2,20,0,20,T,b,amax,0,(random.choice((graph[road] if road  not in lightgraph.keys() else lightgraph[road]))),gen_seed())\n",
    "    else:\n",
    "        return vehicle4(amax/2,20,0,20,T,b,amax,0,road,gen_seed())"
   ]
  },
  {
   "cell_type": "code",
   "execution_count": null,
   "metadata": {},
   "outputs": [],
   "source": [
    "r1=road6([],(0,540),0,700)\n",
    "r2=road6([],(740,595),np.pi/2,700)\n",
    "r3=road6([],(780,595),np.pi/2,700)\n",
    "r4=road6([],(800,595+700),-np.pi/2,700)\n",
    "r5=road6([],(840,595+700),-np.pi/2,700)\n",
    "r6=road6([],(880,540),0,750)\n",
    "r7=road6([],(880,500),0,750)\n",
    "r8=road6([],(880+750,480),np.pi,750)\n",
    "r9=road6([],(880+750,440),np.pi,750)\n",
    "r10=road6([],(840,400),-np.pi/2,700)\n",
    "r11=road6([],(800,400),-np.pi/2,700)\n",
    "r12=road6([],(780,400-700),np.pi/2,700)\n",
    "r13=road6([],(740,400-700),np.pi/2,700)\n",
    "r14=road6([],(700,440),np.pi,700 )\n",
    "r15=road6([],(700,480),np.pi,700 )\n",
    "r16=road6([],(0,500),0,700 )\n",
    "\n",
    "#Lightgraph considers all possible roads that car can get to after running through a light\n",
    "graph={r1:[r1,r16],r2:[r2,r3],r3:[r2,r3],r4:[r4,r5],r5:[r5,r4],r6:[r6,r7],r7:[r6,r7],r8:[r8,r9],r9:[r8,r9],r10:[r10,r11],r11:[r10,r11],r12:[r12,r13],r13:[r14,r15],r14:[r14,r15],r15:[r14,r15],r16:[r1,r16]}\n",
    "lightgraph={r4:[r14,r15,r11],r5:[r6,r7,r10],r8:[r2,r3,r15],r9:[r10,r11,r14],r12:[r6,r7,r3],r13:[r14,r15,r2],r16:[r10,r11,r7],r1:[r2,r3,r6]}\n",
    "\n",
    "#To have synchronised lights\n",
    "couples=np.array_split(list(lightgraph.keys()),len(lightgraph.keys())/2)\n",
    "for idx,couple in enumerate(couples):\n",
    "    for r in couple:\n",
    "        if idx%2==0:\n",
    "                r.opposite=couples[1][0]\n",
    "                r.light=red\n",
    "                r.seed=np.random.normal(100,20,100)\n",
    "        else:\n",
    "                r.opposite=couples[0][0]\n",
    "                r.light=green\n",
    "                r.seed=np.random.normal(300,20,100)\n",
    "            \n",
    "run=False\n",
    "rset=road_set5([r1,r2,r3,r4,r5,r6,r7,r8,r9,r10,r11,r12,r13,r14,r15,r16],graph)\n",
    "simtime=0\n",
    "dt=0.1\n",
    "congestion_alg1=[]\n",
    "while(True):\n",
    "    pg.time.delay(10)\n",
    "    SURF.fill(lgray)\n",
    "    for event in pg.event.get():\n",
    "        if event.type==pg.KEYDOWN:\n",
    "            if event.key==pg.K_s:\n",
    "                run=True\n",
    "    if run:\n",
    "        simtime+=dt\n",
    "        \n",
    "        rset.update()\n",
    "        congestion_alg1.append(np.sum([len(road.vlist) for road in rset.rlist]))\n",
    "    rset.draw()\n",
    "    rset.clean()\n",
    "    x,y=pg.mouse.get_pos()\n",
    "    img=font.render(str((x,y)),True,black)\n",
    "    SURF.blit(img,(x,y+20))\n",
    "    pg.display.update()\n"
   ]
  },
  {
   "cell_type": "code",
   "execution_count": 409,
   "metadata": {},
   "outputs": [
    {
     "data": {
      "image/png": "[encoded data removed]",
      "text/plain": [
       "<Figure size 640x480 with 1 Axes>"
      ]
     },
     "metadata": {},
     "output_type": "display_data"
    }
   ],
   "source": [
    "plt.plot(congestion_alg1,label='amount of cars in the system over time')\n",
    "plt.legend()\n",
    "plt.xlabel('time')\n",
    "plt.ylabel('amount of cars')\n",
    "plt.show()"
   ]
  },
  {
   "cell_type": "code",
   "execution_count": 333,
   "metadata": {},
   "outputs": [
    {
     "data": {
      "text/plain": [
       "[([<matplotlib.lines.Line2D at 0x12244a930>], False), False]"
      ]
     },
     "execution_count": 333,
     "metadata": {},
     "output_type": "execute_result"
    }
   ],
   "source": [
    "l=[[1,2],[3,4]]\n"
   ]
  },
  {
   "cell_type": "markdown",
   "metadata": {},
   "source": [
    "Implementing second algorithm"
   ]
  },
  {
   "cell_type": "code",
   "execution_count": 110,
   "metadata": {},
   "outputs": [],
   "source": [
    "yellow_time=10\n",
    "class road7(road6):\n",
    "    def __init__(self, vlist, pos, angle, length):\n",
    "        self.green_time=0\n",
    "        super().__init__(vlist, pos, angle, length)\n",
    "    \n",
    "    def update(self, stopped=[]):\n",
    "        #Detecting how many cars are waiting\n",
    "        if (self.opposite==None or self.opposite.light==red) and (self.light!=None)  :\n",
    "            idx = list(lightgraph.keys()).index(self)\n",
    "            x=list(lightgraph.keys()).index(self) + (1 if idx%2==0 else -1)\n",
    "            self.green_time=10*max(len(self.vlist),len(list(lightgraph.keys())[0 if x==len(lightgraph.keys()) else x].vlist))\n",
    "        else:\n",
    "            self.time=0\n",
    "        if self.light !=None:\n",
    "            self.update_light()\n",
    "        super().update(stopped)\n",
    "    \n",
    "    def update_light(self):\n",
    "        if self.opposite.light==red or self.opposite.light==None:\n",
    "            if self.time<self.green_time:\n",
    "                self.light=green\n",
    "            elif self.time<self.green_time+yellow_time:\n",
    "                self.light=yellow\n",
    "            elif self.time<self.green_time+yellow_time+red_time:\n",
    "                self.light=red\n",
    "            else:\n",
    "                self.time=0\n",
    "        else:\n",
    "            self.light=red"
   ]
  },
  {
   "cell_type": "code",
   "execution_count": null,
   "metadata": {},
   "outputs": [],
   "source": [
    "r1=road7([],(0,540),0,700)\n",
    "r2=road7([],(740,595),np.pi/2,700)\n",
    "r3=road7([],(780,595),np.pi/2,700)\n",
    "r4=road7([],(800,595+700),-np.pi/2,700)\n",
    "r5=road7([],(840,595+700),-np.pi/2,700)\n",
    "r6=road7([],(880,540),0,750)\n",
    "r7=road7([],(880,500),0,750)\n",
    "r8=road7([],(880+750,480),np.pi,750)\n",
    "r9=road7([],(880+750,440),np.pi,750)\n",
    "r10=road7([],(840,400),-np.pi/2,700)\n",
    "r11=road7([],(800,400),-np.pi/2,700)\n",
    "r12=road7([],(780,400-700),np.pi/2,700)\n",
    "r13=road7([],(740,400-700),np.pi/2,700)\n",
    "r14=road7([],(700,440),np.pi,700 )\n",
    "r15=road7([],(700,480),np.pi,700 )\n",
    "r16=road7([],(0,500),0,700 )\n",
    "\n",
    "\n",
    "graph={r1:[r1,r16],r2:[r2,r3],r3:[r2,r3],r4:[r4,r5],r5:[r5,r4],r6:[r6,r7],r7:[r6,r7],r8:[r8,r9],r9:[r8,r9],r10:[r10,r11],r11:[r10,r11],r12:[r12,r13],r13:[r14,r15],r14:[r14,r15],r15:[r14,r15],r16:[r1,r16]}\n",
    "lightgraph={r4:[r14,r15,r11],r5:[r6,r7,r10],r8:[r2,r3,r15],r9:[r10,r11,r14],r12:[r6,r7,r3],r13:[r14,r15,r2],r16:[r10,r11,r7],r1:[r2,r3,r6]}\n",
    "couples=np.array_split(list(lightgraph.keys()),len(lightgraph.keys())/2)\n",
    "for idx,couple in enumerate(couples):\n",
    "    for r in couple:\n",
    "        if idx%2==0:\n",
    "                r.opposite=couples[1][0]\n",
    "                r.light=red\n",
    "                r.seed=np.random.normal(100,20,100)\n",
    "        else:\n",
    "                r.opposite=couples[0][0]\n",
    "                r.light=green\n",
    "                r.seed=np.random.normal(300,20,100)\n",
    "        \n",
    "\n",
    "run=False\n",
    "rset=road_set5([r1,r2,r3,r4,r5,r6,r7,r8,r9,r10,r11,r12,r13,r14,r15,r16],graph)\n",
    "simtime=0\n",
    "dt=0.1\n",
    "congestion_alg2=[]\n",
    "while(True):\n",
    "    pg.time.delay(10)\n",
    "    SURF.fill(lgray)\n",
    "    for event in pg.event.get():\n",
    "        if event.type==pg.KEYDOWN:\n",
    "            if event.key==pg.K_s:\n",
    "                run=True\n",
    "    if run:\n",
    "        simtime+=dt\n",
    "        \n",
    "        rset.update()\n",
    "        congestion_alg2.append(np.sum([len(road.vlist) for road in rset.rlist]))\n",
    "    rset.draw()\n",
    "    rset.clean()\n",
    "    x,y=pg.mouse.get_pos()\n",
    "    img=font.render(str((x,y)),True,black)\n",
    "    SURF.blit(img,(x,y+20))\n",
    "    pg.display.update()\n"
   ]
  },
  {
   "cell_type": "code",
   "execution_count": 417,
   "metadata": {},
   "outputs": [
    {
     "data": {
      "image/png": "[encoded data removed]",
      "text/plain": [
       "<Figure size 640x480 with 1 Axes>"
      ]
     },
     "metadata": {},
     "output_type": "display_data"
    }
   ],
   "source": [
    "plt.plot(congestion_alg1,label='amount of cars in the system over time using alg1')\n",
    "plt.plot(congestion_alg2,label='amount of cars in the system over time using alg2')\n",
    "plt.legend()\n",
    "plt.xlabel('time')\n",
    "plt.ylabel('amount of cars')\n",
    "plt.show()"
   ]
  }
 ],
 "metadata": {
  "kernelspec": {
   "display_name": "Python 3",
   "language": "python",
   "name": "python3"
  },
  "language_info": {
   "codemirror_mode": {
    "name": "ipython",
    "version": 3
   },
   "file_extension": ".py",
   "mimetype": "text/x-python",
   "name": "python",
   "nbconvert_exporter": "python",
   "pygments_lexer": "ipython3",
   "version": "3.12.3"
  }
 },
 "nbformat": 4,
 "nbformat_minor": 2
}
